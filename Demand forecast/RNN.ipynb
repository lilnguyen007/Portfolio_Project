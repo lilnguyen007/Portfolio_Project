{
 "cells": [
  {
   "cell_type": "markdown",
   "id": "5b407902",
   "metadata": {},
   "source": [
    "## RNN\n",
    "*The code below leverages an RNN model to forecast overall demand for the next month. However, since TensorFlow could not be imported in the local Anaconda environment due to compatibility issues, the implementation was carried out on Google Colab. The link is included below.*\n",
    "<https://colab.research.google.com/drive/1Ufjzcy6uzZdB-dhK_tsBogcgRnMEm7C5?usp=sharing>"
   ]
  },
  {
   "cell_type": "code",
   "execution_count": null,
   "id": "4ee2cc52",
   "metadata": {},
   "outputs": [],
   "source": [
    "import numpy as np\n",
    "import pandas as pd\n",
    "import matplotlib.pyplot as plt\n",
    "from sklearn.metrics import mean_squared_error, mean_absolute_error\n",
    "from sklearn.preprocessing import MinMaxScaler\n",
    "from tensorflow.keras.models import Sequential\n",
    "from tensorflow.keras.layers import Dense, SimpleRNN"
   ]
  },
  {
   "cell_type": "code",
   "execution_count": null,
   "id": "81042b1d",
   "metadata": {},
   "outputs": [],
   "source": [
    "df[\"demand\"] = df[\"unitprice\"] * df[\"quantity\"]\n",
    "df['orderdate'] = pd.to_datetime(df['orderdate'])\n",
    "df.set_index('orderdate', inplace=True)\n",
    "df_monthly_demand = df['demand'].resample('M').sum()\n",
    "\n",
    "print(df_monthly_demand.head())"
   ]
  },
  {
   "cell_type": "code",
   "execution_count": null,
   "id": "1a2dda2f",
   "metadata": {},
   "outputs": [],
   "source": [
    "# Prepare data for RNN\n",
    "data = df_monthly_demand.values.reshape(-1, 1)\n",
    "\n",
    "# Scale the data\n",
    "scaler = MinMaxScaler()\n",
    "data_scaled = scaler.fit_transform(data)\n",
    "\n",
    "# Create sequences for RNN\n",
    "def create_sequences(data, seq_length):\n",
    "    X, y = [], []\n",
    "    for i in range(len(data) - seq_length):\n",
    "        X.append(data[i:i+seq_length])\n",
    "        y.append(data[i+seq_length])\n",
    "    return np.array(X), np.array(y)\n",
    "\n",
    "seq_length = 12 # Adjust sequence length for monthly data, e.g., 12 for a year\n",
    "X, y = create_sequences(data_scaled, seq_length)\n",
    "\n",
    "# Split data into training and testing sets\n",
    "train_size = int(len(X) * 0.8) # 80% for training\n",
    "X_train, X_test = X[:train_size], X[train_size:]\n",
    "y_train, y_test = y[:train_size], y[train_size:]"
   ]
  },
  {
   "cell_type": "code",
   "execution_count": null,
   "id": "a5b15442",
   "metadata": {},
   "outputs": [],
   "source": [
    "# Build the RNN model\n",
    "model = Sequential()\n",
    "model.add(SimpleRNN(units=50, activation='relu', input_shape=(seq_length, 1)))\n",
    "model.add(Dense(units=1))\n",
    "\n",
    "model.compile(optimizer='adam', loss='mse')\n",
    "\n",
    "model.summary()"
   ]
  },
  {
   "cell_type": "code",
   "execution_count": null,
   "id": "2d8c1111",
   "metadata": {},
   "outputs": [],
   "source": [
    "# Train the RNN model\n",
    "history = model.fit(X_train, y_train, epochs=100, batch_size=1, validation_split=0.2) # Adjust epochs and batch_size for monthly data"
   ]
  },
  {
   "cell_type": "code",
   "execution_count": null,
   "id": "3a418051",
   "metadata": {},
   "outputs": [],
   "source": [
    "# Make predictions\n",
    "predictions = model.predict(X_test)\n",
    "\n",
    "# Inverse transform the predictions and actual values\n",
    "predictions = scaler.inverse_transform(predictions)\n",
    "y_test_actual = scaler.inverse_transform(y_test)\n"
   ]
  },
  {
   "cell_type": "code",
   "execution_count": null,
   "id": "268ba049",
   "metadata": {},
   "outputs": [],
   "source": [
    "# Visualize the results\n",
    "plt.figure(figsize=(12, 6))\n",
    "plt.plot(df_monthly_demand.index[-len(y_test):], y_test_actual, label='Actual Demand')\n",
    "plt.plot(df_monthly_demand.index[-len(y_test):], predictions.flatten(), label='Predicted Demand') # Flatten predictions for plotting\n",
    "plt.title('RNN Demand forecast')\n",
    "plt.xlabel('Date')\n",
    "plt.ylabel('Demand')\n",
    "plt.legend()\n",
    "plt.show()"
   ]
  }
 ],
 "metadata": {
  "kernelspec": {
   "display_name": "base",
   "language": "python",
   "name": "python3"
  },
  "language_info": {
   "codemirror_mode": {
    "name": "ipython",
    "version": 3
   },
   "file_extension": ".py",
   "mimetype": "text/x-python",
   "name": "python",
   "nbconvert_exporter": "python",
   "pygments_lexer": "ipython3",
   "version": "3.13.5"
  }
 },
 "nbformat": 4,
 "nbformat_minor": 5
}
